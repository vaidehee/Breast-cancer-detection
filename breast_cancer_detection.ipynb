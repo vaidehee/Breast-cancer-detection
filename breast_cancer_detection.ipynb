{
  "nbformat": 4,
  "nbformat_minor": 0,
  "metadata": {
    "colab": {
      "name": "breast cancer detection.ipynb",
      "provenance": [],
      "collapsed_sections": []
    },
    "kernelspec": {
      "name": "python3",
      "display_name": "Python 3"
    },
    "language_info": {
      "name": "python"
    }
  },
  "cells": [
    {
      "cell_type": "markdown",
      "metadata": {
        "id": "52P2d3B6X5B6"
      },
      "source": [
        "# BREAST CANCER DETECTION"
      ]
    },
    {
      "cell_type": "code",
      "metadata": {
        "id": "RLa-KMRVQmEz"
      },
      "source": [
        "import pandas as pd\n",
        "import numpy as np\n"
      ],
      "execution_count": 166,
      "outputs": []
    },
    {
      "cell_type": "code",
      "metadata": {
        "id": "B-KDOkzPP7mi"
      },
      "source": [
        "from sklearn.datasets import load_breast_cancer\n",
        "from sklearn.preprocessing import StandardScaler"
      ],
      "execution_count": 167,
      "outputs": []
    },
    {
      "cell_type": "code",
      "metadata": {
        "id": "_qQCqNYiP_6y"
      },
      "source": [
        "from keras.models import Sequential\n",
        "from keras.layers import Dense"
      ],
      "execution_count": 168,
      "outputs": []
    },
    {
      "cell_type": "code",
      "metadata": {
        "id": "zP2hrVP9QUkv"
      },
      "source": [
        "data = load_breast_cancer()"
      ],
      "execution_count": 169,
      "outputs": []
    },
    {
      "cell_type": "code",
      "metadata": {
        "colab": {
          "base_uri": "https://localhost:8080/"
        },
        "id": "klRgKiU-QY6d",
        "outputId": "6ea41874-6224-4d59-bb87-bc78a5dbd339"
      },
      "source": [
        "data.keys()"
      ],
      "execution_count": 170,
      "outputs": [
        {
          "output_type": "execute_result",
          "data": {
            "text/plain": [
              "dict_keys(['data', 'target', 'target_names', 'DESCR', 'feature_names', 'filename'])"
            ]
          },
          "metadata": {},
          "execution_count": 170
        }
      ]
    },
    {
      "cell_type": "code",
      "metadata": {
        "colab": {
          "base_uri": "https://localhost:8080/"
        },
        "id": "7kf8pmRORh73",
        "outputId": "37347aa4-7812-497e-cb07-1f68ec132e39"
      },
      "source": [
        "print(data['DESCR'])"
      ],
      "execution_count": 171,
      "outputs": [
        {
          "output_type": "stream",
          "name": "stdout",
          "text": [
            ".. _breast_cancer_dataset:\n",
            "\n",
            "Breast cancer wisconsin (diagnostic) dataset\n",
            "--------------------------------------------\n",
            "\n",
            "**Data Set Characteristics:**\n",
            "\n",
            "    :Number of Instances: 569\n",
            "\n",
            "    :Number of Attributes: 30 numeric, predictive attributes and the class\n",
            "\n",
            "    :Attribute Information:\n",
            "        - radius (mean of distances from center to points on the perimeter)\n",
            "        - texture (standard deviation of gray-scale values)\n",
            "        - perimeter\n",
            "        - area\n",
            "        - smoothness (local variation in radius lengths)\n",
            "        - compactness (perimeter^2 / area - 1.0)\n",
            "        - concavity (severity of concave portions of the contour)\n",
            "        - concave points (number of concave portions of the contour)\n",
            "        - symmetry \n",
            "        - fractal dimension (\"coastline approximation\" - 1)\n",
            "\n",
            "        The mean, standard error, and \"worst\" or largest (mean of the three\n",
            "        largest values) of these features were computed for each image,\n",
            "        resulting in 30 features.  For instance, field 3 is Mean Radius, field\n",
            "        13 is Radius SE, field 23 is Worst Radius.\n",
            "\n",
            "        - class:\n",
            "                - WDBC-Malignant\n",
            "                - WDBC-Benign\n",
            "\n",
            "    :Summary Statistics:\n",
            "\n",
            "    ===================================== ====== ======\n",
            "                                           Min    Max\n",
            "    ===================================== ====== ======\n",
            "    radius (mean):                        6.981  28.11\n",
            "    texture (mean):                       9.71   39.28\n",
            "    perimeter (mean):                     43.79  188.5\n",
            "    area (mean):                          143.5  2501.0\n",
            "    smoothness (mean):                    0.053  0.163\n",
            "    compactness (mean):                   0.019  0.345\n",
            "    concavity (mean):                     0.0    0.427\n",
            "    concave points (mean):                0.0    0.201\n",
            "    symmetry (mean):                      0.106  0.304\n",
            "    fractal dimension (mean):             0.05   0.097\n",
            "    radius (standard error):              0.112  2.873\n",
            "    texture (standard error):             0.36   4.885\n",
            "    perimeter (standard error):           0.757  21.98\n",
            "    area (standard error):                6.802  542.2\n",
            "    smoothness (standard error):          0.002  0.031\n",
            "    compactness (standard error):         0.002  0.135\n",
            "    concavity (standard error):           0.0    0.396\n",
            "    concave points (standard error):      0.0    0.053\n",
            "    symmetry (standard error):            0.008  0.079\n",
            "    fractal dimension (standard error):   0.001  0.03\n",
            "    radius (worst):                       7.93   36.04\n",
            "    texture (worst):                      12.02  49.54\n",
            "    perimeter (worst):                    50.41  251.2\n",
            "    area (worst):                         185.2  4254.0\n",
            "    smoothness (worst):                   0.071  0.223\n",
            "    compactness (worst):                  0.027  1.058\n",
            "    concavity (worst):                    0.0    1.252\n",
            "    concave points (worst):               0.0    0.291\n",
            "    symmetry (worst):                     0.156  0.664\n",
            "    fractal dimension (worst):            0.055  0.208\n",
            "    ===================================== ====== ======\n",
            "\n",
            "    :Missing Attribute Values: None\n",
            "\n",
            "    :Class Distribution: 212 - Malignant, 357 - Benign\n",
            "\n",
            "    :Creator:  Dr. William H. Wolberg, W. Nick Street, Olvi L. Mangasarian\n",
            "\n",
            "    :Donor: Nick Street\n",
            "\n",
            "    :Date: November, 1995\n",
            "\n",
            "This is a copy of UCI ML Breast Cancer Wisconsin (Diagnostic) datasets.\n",
            "https://goo.gl/U2Uwz2\n",
            "\n",
            "Features are computed from a digitized image of a fine needle\n",
            "aspirate (FNA) of a breast mass.  They describe\n",
            "characteristics of the cell nuclei present in the image.\n",
            "\n",
            "Separating plane described above was obtained using\n",
            "Multisurface Method-Tree (MSM-T) [K. P. Bennett, \"Decision Tree\n",
            "Construction Via Linear Programming.\" Proceedings of the 4th\n",
            "Midwest Artificial Intelligence and Cognitive Science Society,\n",
            "pp. 97-101, 1992], a classification method which uses linear\n",
            "programming to construct a decision tree.  Relevant features\n",
            "were selected using an exhaustive search in the space of 1-4\n",
            "features and 1-3 separating planes.\n",
            "\n",
            "The actual linear program used to obtain the separating plane\n",
            "in the 3-dimensional space is that described in:\n",
            "[K. P. Bennett and O. L. Mangasarian: \"Robust Linear\n",
            "Programming Discrimination of Two Linearly Inseparable Sets\",\n",
            "Optimization Methods and Software 1, 1992, 23-34].\n",
            "\n",
            "This database is also available through the UW CS ftp server:\n",
            "\n",
            "ftp ftp.cs.wisc.edu\n",
            "cd math-prog/cpo-dataset/machine-learn/WDBC/\n",
            "\n",
            ".. topic:: References\n",
            "\n",
            "   - W.N. Street, W.H. Wolberg and O.L. Mangasarian. Nuclear feature extraction \n",
            "     for breast tumor diagnosis. IS&T/SPIE 1993 International Symposium on \n",
            "     Electronic Imaging: Science and Technology, volume 1905, pages 861-870,\n",
            "     San Jose, CA, 1993.\n",
            "   - O.L. Mangasarian, W.N. Street and W.H. Wolberg. Breast cancer diagnosis and \n",
            "     prognosis via linear programming. Operations Research, 43(4), pages 570-577, \n",
            "     July-August 1995.\n",
            "   - W.H. Wolberg, W.N. Street, and O.L. Mangasarian. Machine learning techniques\n",
            "     to diagnose breast cancer from fine-needle aspirates. Cancer Letters 77 (1994) \n",
            "     163-171.\n"
          ]
        }
      ]
    },
    {
      "cell_type": "code",
      "metadata": {
        "colab": {
          "base_uri": "https://localhost:8080/"
        },
        "id": "v79LW4kKRndS",
        "outputId": "a198f07d-fadb-4fe0-96aa-298ca52fdbd8"
      },
      "source": [
        "data['data'].shape"
      ],
      "execution_count": 172,
      "outputs": [
        {
          "output_type": "execute_result",
          "data": {
            "text/plain": [
              "(569, 30)"
            ]
          },
          "metadata": {},
          "execution_count": 172
        }
      ]
    },
    {
      "cell_type": "code",
      "metadata": {
        "colab": {
          "base_uri": "https://localhost:8080/"
        },
        "id": "4EnCpMmYRyrC",
        "outputId": "b99a0927-bcdc-412b-fd19-480209fe1090"
      },
      "source": [
        "data['feature_names']\n"
      ],
      "execution_count": 173,
      "outputs": [
        {
          "output_type": "execute_result",
          "data": {
            "text/plain": [
              "array(['mean radius', 'mean texture', 'mean perimeter', 'mean area',\n",
              "       'mean smoothness', 'mean compactness', 'mean concavity',\n",
              "       'mean concave points', 'mean symmetry', 'mean fractal dimension',\n",
              "       'radius error', 'texture error', 'perimeter error', 'area error',\n",
              "       'smoothness error', 'compactness error', 'concavity error',\n",
              "       'concave points error', 'symmetry error',\n",
              "       'fractal dimension error', 'worst radius', 'worst texture',\n",
              "       'worst perimeter', 'worst area', 'worst smoothness',\n",
              "       'worst compactness', 'worst concavity', 'worst concave points',\n",
              "       'worst symmetry', 'worst fractal dimension'], dtype='<U23')"
            ]
          },
          "metadata": {},
          "execution_count": 173
        }
      ]
    },
    {
      "cell_type": "code",
      "metadata": {
        "colab": {
          "base_uri": "https://localhost:8080/",
          "height": 35
        },
        "id": "GMZNIKWKSZUU",
        "outputId": "363626e7-cb09-4383-8d2c-feaff387487a"
      },
      "source": [
        "data['filename']"
      ],
      "execution_count": 174,
      "outputs": [
        {
          "output_type": "execute_result",
          "data": {
            "application/vnd.google.colaboratory.intrinsic+json": {
              "type": "string"
            },
            "text/plain": [
              "'/usr/local/lib/python3.7/dist-packages/sklearn/datasets/data/breast_cancer.csv'"
            ]
          },
          "metadata": {},
          "execution_count": 174
        }
      ]
    },
    {
      "cell_type": "code",
      "metadata": {
        "colab": {
          "base_uri": "https://localhost:8080/"
        },
        "id": "3qgGyXX3R2lr",
        "outputId": "8c8dbe30-c696-4846-c1cc-bb4b31516f28"
      },
      "source": [
        "data['data'][2]"
      ],
      "execution_count": 175,
      "outputs": [
        {
          "output_type": "execute_result",
          "data": {
            "text/plain": [
              "array([1.969e+01, 2.125e+01, 1.300e+02, 1.203e+03, 1.096e-01, 1.599e-01,\n",
              "       1.974e-01, 1.279e-01, 2.069e-01, 5.999e-02, 7.456e-01, 7.869e-01,\n",
              "       4.585e+00, 9.403e+01, 6.150e-03, 4.006e-02, 3.832e-02, 2.058e-02,\n",
              "       2.250e-02, 4.571e-03, 2.357e+01, 2.553e+01, 1.525e+02, 1.709e+03,\n",
              "       1.444e-01, 4.245e-01, 4.504e-01, 2.430e-01, 3.613e-01, 8.758e-02])"
            ]
          },
          "metadata": {},
          "execution_count": 175
        }
      ]
    },
    {
      "cell_type": "code",
      "metadata": {
        "colab": {
          "base_uri": "https://localhost:8080/"
        },
        "id": "Vd0Z9yaZR8qR",
        "outputId": "832cc185-fd2c-4726-aa88-7e88b5f3d7ee"
      },
      "source": [
        "k = 0\n",
        "for l in data['feature_names']:\n",
        "  print(l,\":\",data['data'][0][k])\n",
        "  k+=1"
      ],
      "execution_count": 176,
      "outputs": [
        {
          "output_type": "stream",
          "name": "stdout",
          "text": [
            "mean radius : 17.99\n",
            "mean texture : 10.38\n",
            "mean perimeter : 122.8\n",
            "mean area : 1001.0\n",
            "mean smoothness : 0.1184\n",
            "mean compactness : 0.2776\n",
            "mean concavity : 0.3001\n",
            "mean concave points : 0.1471\n",
            "mean symmetry : 0.2419\n",
            "mean fractal dimension : 0.07871\n",
            "radius error : 1.095\n",
            "texture error : 0.9053\n",
            "perimeter error : 8.589\n",
            "area error : 153.4\n",
            "smoothness error : 0.006399\n",
            "compactness error : 0.04904\n",
            "concavity error : 0.05373\n",
            "concave points error : 0.01587\n",
            "symmetry error : 0.03003\n",
            "fractal dimension error : 0.006193\n",
            "worst radius : 25.38\n",
            "worst texture : 17.33\n",
            "worst perimeter : 184.6\n",
            "worst area : 2019.0\n",
            "worst smoothness : 0.1622\n",
            "worst compactness : 0.6656\n",
            "worst concavity : 0.7119\n",
            "worst concave points : 0.2654\n",
            "worst symmetry : 0.4601\n",
            "worst fractal dimension : 0.1189\n"
          ]
        }
      ]
    },
    {
      "cell_type": "code",
      "metadata": {
        "id": "wtrliR-cS3ZW"
      },
      "source": [
        "\n",
        "feature = data['data']"
      ],
      "execution_count": 177,
      "outputs": []
    },
    {
      "cell_type": "code",
      "metadata": {
        "id": "ked0aGAzS8S_"
      },
      "source": [
        "label = data['target']"
      ],
      "execution_count": 178,
      "outputs": []
    },
    {
      "cell_type": "code",
      "metadata": {
        "colab": {
          "base_uri": "https://localhost:8080/"
        },
        "id": "pnNvBBAbS_gD",
        "outputId": "9431656a-14a3-44c4-85e8-e025ee15659c"
      },
      "source": [
        "data['target_names']\n",
        "\n",
        "feature.shape\n",
        "\n",
        "label.shape"
      ],
      "execution_count": 179,
      "outputs": [
        {
          "output_type": "execute_result",
          "data": {
            "text/plain": [
              "(569,)"
            ]
          },
          "metadata": {},
          "execution_count": 179
        }
      ]
    },
    {
      "cell_type": "code",
      "metadata": {
        "id": "Ne6ptfMNTF7X"
      },
      "source": [
        "scale = StandardScaler()\n",
        "\n",
        "feature = scale.fit_transform(feature)"
      ],
      "execution_count": 180,
      "outputs": []
    },
    {
      "cell_type": "code",
      "metadata": {
        "colab": {
          "base_uri": "https://localhost:8080/"
        },
        "id": "ZTvY2nOPTMTB",
        "outputId": "74da4afd-477b-49dd-f065-944a84bf4c49"
      },
      "source": [
        "k = 0\n",
        "for l in data['feature_names']:\n",
        "  print(l,\":\",data['data'][0][k])\n",
        "  k+=1"
      ],
      "execution_count": 181,
      "outputs": [
        {
          "output_type": "stream",
          "name": "stdout",
          "text": [
            "mean radius : 17.99\n",
            "mean texture : 10.38\n",
            "mean perimeter : 122.8\n",
            "mean area : 1001.0\n",
            "mean smoothness : 0.1184\n",
            "mean compactness : 0.2776\n",
            "mean concavity : 0.3001\n",
            "mean concave points : 0.1471\n",
            "mean symmetry : 0.2419\n",
            "mean fractal dimension : 0.07871\n",
            "radius error : 1.095\n",
            "texture error : 0.9053\n",
            "perimeter error : 8.589\n",
            "area error : 153.4\n",
            "smoothness error : 0.006399\n",
            "compactness error : 0.04904\n",
            "concavity error : 0.05373\n",
            "concave points error : 0.01587\n",
            "symmetry error : 0.03003\n",
            "fractal dimension error : 0.006193\n",
            "worst radius : 25.38\n",
            "worst texture : 17.33\n",
            "worst perimeter : 184.6\n",
            "worst area : 2019.0\n",
            "worst smoothness : 0.1622\n",
            "worst compactness : 0.6656\n",
            "worst concavity : 0.7119\n",
            "worst concave points : 0.2654\n",
            "worst symmetry : 0.4601\n",
            "worst fractal dimension : 0.1189\n"
          ]
        }
      ]
    },
    {
      "cell_type": "code",
      "metadata": {
        "id": "cb76vyCVTfPF",
        "colab": {
          "base_uri": "https://localhost:8080/"
        },
        "outputId": "89c00a9d-5a94-4585-b623-bc881e5b6e5c"
      },
      "source": [
        "print(feature[568])\n",
        "print(data['target_names'][label[568]],label[568])\n"
      ],
      "execution_count": 182,
      "outputs": [
        {
          "output_type": "stream",
          "name": "stdout",
          "text": [
            "[-1.80840125  1.22179204 -1.81438851 -1.34778924 -3.11208479 -1.15075248\n",
            " -1.11487284 -1.26181958 -0.8200699  -0.56103238 -0.07027874  0.3830925\n",
            " -0.15744905 -0.46615196  0.04934236 -1.16351619 -1.05750068 -1.91344745\n",
            "  0.75282996 -0.382754   -1.41089258  0.76418957 -1.43273495 -1.07581292\n",
            " -1.85901852 -1.2075525  -1.30583065 -1.74506282 -0.04813821 -0.75120669]\n",
            "benign 1\n"
          ]
        }
      ]
    },
    {
      "cell_type": "code",
      "metadata": {
        "id": "vT0Ld_JQW4pu"
      },
      "source": [
        "\n",
        "df_frt = pd.DataFrame(feature , columns = data['feature_names'])\n",
        "df_lbl = pd.DataFrame(label , columns = ['label'])\n",
        "df = pd.concat([df_frt, df_lbl], axis=1)\n",
        "df = df.sample(frac = 1)\n",
        "\n",
        "feature = df.values[ : , : 30]\n",
        "label = df.values[ : ,30: ]"
      ],
      "execution_count": 183,
      "outputs": []
    },
    {
      "cell_type": "code",
      "metadata": {
        "colab": {
          "base_uri": "https://localhost:8080/",
          "height": 257
        },
        "id": "3eP5SC84XHYD",
        "outputId": "7b8c3f40-3bbb-4252-b1f9-7b5e98ca7050"
      },
      "source": [
        "df.head()"
      ],
      "execution_count": 184,
      "outputs": [
        {
          "output_type": "execute_result",
          "data": {
            "text/html": [
              "<div>\n",
              "<style scoped>\n",
              "    .dataframe tbody tr th:only-of-type {\n",
              "        vertical-align: middle;\n",
              "    }\n",
              "\n",
              "    .dataframe tbody tr th {\n",
              "        vertical-align: top;\n",
              "    }\n",
              "\n",
              "    .dataframe thead th {\n",
              "        text-align: right;\n",
              "    }\n",
              "</style>\n",
              "<table border=\"1\" class=\"dataframe\">\n",
              "  <thead>\n",
              "    <tr style=\"text-align: right;\">\n",
              "      <th></th>\n",
              "      <th>mean radius</th>\n",
              "      <th>mean texture</th>\n",
              "      <th>mean perimeter</th>\n",
              "      <th>mean area</th>\n",
              "      <th>mean smoothness</th>\n",
              "      <th>mean compactness</th>\n",
              "      <th>mean concavity</th>\n",
              "      <th>mean concave points</th>\n",
              "      <th>mean symmetry</th>\n",
              "      <th>mean fractal dimension</th>\n",
              "      <th>radius error</th>\n",
              "      <th>texture error</th>\n",
              "      <th>perimeter error</th>\n",
              "      <th>area error</th>\n",
              "      <th>smoothness error</th>\n",
              "      <th>compactness error</th>\n",
              "      <th>concavity error</th>\n",
              "      <th>concave points error</th>\n",
              "      <th>symmetry error</th>\n",
              "      <th>fractal dimension error</th>\n",
              "      <th>worst radius</th>\n",
              "      <th>worst texture</th>\n",
              "      <th>worst perimeter</th>\n",
              "      <th>worst area</th>\n",
              "      <th>worst smoothness</th>\n",
              "      <th>worst compactness</th>\n",
              "      <th>worst concavity</th>\n",
              "      <th>worst concave points</th>\n",
              "      <th>worst symmetry</th>\n",
              "      <th>worst fractal dimension</th>\n",
              "      <th>label</th>\n",
              "    </tr>\n",
              "  </thead>\n",
              "  <tbody>\n",
              "    <tr>\n",
              "      <th>376</th>\n",
              "      <td>-1.010321</td>\n",
              "      <td>0.216499</td>\n",
              "      <td>-0.898730</td>\n",
              "      <td>-0.900412</td>\n",
              "      <td>-0.400681</td>\n",
              "      <td>1.168530</td>\n",
              "      <td>1.747661</td>\n",
              "      <td>0.270601</td>\n",
              "      <td>1.374147</td>\n",
              "      <td>3.076540</td>\n",
              "      <td>-1.059924</td>\n",
              "      <td>0.025667</td>\n",
              "      <td>-0.249030</td>\n",
              "      <td>-0.728456</td>\n",
              "      <td>0.486027</td>\n",
              "      <td>2.847676</td>\n",
              "      <td>4.032102</td>\n",
              "      <td>2.821453</td>\n",
              "      <td>-0.529391</td>\n",
              "      <td>3.179239</td>\n",
              "      <td>-1.122220</td>\n",
              "      <td>-0.465281</td>\n",
              "      <td>-0.915951</td>\n",
              "      <td>-0.929379</td>\n",
              "      <td>-0.792053</td>\n",
              "      <td>0.684709</td>\n",
              "      <td>1.587076</td>\n",
              "      <td>0.485634</td>\n",
              "      <td>-0.491410</td>\n",
              "      <td>1.997972</td>\n",
              "      <td>1</td>\n",
              "    </tr>\n",
              "    <tr>\n",
              "      <th>528</th>\n",
              "      <td>-0.053194</td>\n",
              "      <td>-1.424083</td>\n",
              "      <td>-0.068336</td>\n",
              "      <td>-0.172606</td>\n",
              "      <td>2.023925</td>\n",
              "      <td>-0.128699</td>\n",
              "      <td>0.153179</td>\n",
              "      <td>0.444452</td>\n",
              "      <td>0.600147</td>\n",
              "      <td>0.251255</td>\n",
              "      <td>0.508639</td>\n",
              "      <td>2.573006</td>\n",
              "      <td>0.606383</td>\n",
              "      <td>0.096872</td>\n",
              "      <td>0.999714</td>\n",
              "      <td>0.390772</td>\n",
              "      <td>0.521768</td>\n",
              "      <td>2.714394</td>\n",
              "      <td>-0.410734</td>\n",
              "      <td>0.655546</td>\n",
              "      <td>-0.341518</td>\n",
              "      <td>-1.676839</td>\n",
              "      <td>-0.379508</td>\n",
              "      <td>-0.399544</td>\n",
              "      <td>0.308228</td>\n",
              "      <td>-0.749786</td>\n",
              "      <td>-0.557897</td>\n",
              "      <td>-0.199563</td>\n",
              "      <td>-1.198380</td>\n",
              "      <td>-0.632617</td>\n",
              "      <td>1</td>\n",
              "    </tr>\n",
              "    <tr>\n",
              "      <th>254</th>\n",
              "      <td>1.511725</td>\n",
              "      <td>0.009390</td>\n",
              "      <td>1.422337</td>\n",
              "      <td>1.462184</td>\n",
              "      <td>0.508101</td>\n",
              "      <td>0.274020</td>\n",
              "      <td>0.616458</td>\n",
              "      <td>0.954141</td>\n",
              "      <td>-0.130042</td>\n",
              "      <td>-0.897005</td>\n",
              "      <td>0.688377</td>\n",
              "      <td>-1.057134</td>\n",
              "      <td>0.460844</td>\n",
              "      <td>0.674637</td>\n",
              "      <td>-0.797359</td>\n",
              "      <td>-0.417950</td>\n",
              "      <td>-0.146014</td>\n",
              "      <td>0.141749</td>\n",
              "      <td>-0.834509</td>\n",
              "      <td>-0.470887</td>\n",
              "      <td>1.952956</td>\n",
              "      <td>-0.180304</td>\n",
              "      <td>1.663205</td>\n",
              "      <td>1.918616</td>\n",
              "      <td>0.759738</td>\n",
              "      <td>0.393357</td>\n",
              "      <td>0.765260</td>\n",
              "      <td>1.298734</td>\n",
              "      <td>0.773694</td>\n",
              "      <td>0.307790</td>\n",
              "      <td>0</td>\n",
              "    </tr>\n",
              "    <tr>\n",
              "      <th>275</th>\n",
              "      <td>-0.635423</td>\n",
              "      <td>-0.449042</td>\n",
              "      <td>-0.649530</td>\n",
              "      <td>-0.623681</td>\n",
              "      <td>1.860245</td>\n",
              "      <td>-0.611014</td>\n",
              "      <td>-0.370489</td>\n",
              "      <td>0.647967</td>\n",
              "      <td>0.742534</td>\n",
              "      <td>-0.573791</td>\n",
              "      <td>0.851874</td>\n",
              "      <td>1.952500</td>\n",
              "      <td>0.571731</td>\n",
              "      <td>0.187079</td>\n",
              "      <td>2.379770</td>\n",
              "      <td>-0.591766</td>\n",
              "      <td>-0.637401</td>\n",
              "      <td>1.184757</td>\n",
              "      <td>0.755252</td>\n",
              "      <td>-0.299917</td>\n",
              "      <td>-0.801242</td>\n",
              "      <td>-1.088973</td>\n",
              "      <td>-0.828082</td>\n",
              "      <td>-0.717550</td>\n",
              "      <td>0.154802</td>\n",
              "      <td>-1.085159</td>\n",
              "      <td>-0.962664</td>\n",
              "      <td>-0.382891</td>\n",
              "      <td>-1.101313</td>\n",
              "      <td>-1.308690</td>\n",
              "      <td>1</td>\n",
              "    </tr>\n",
              "    <tr>\n",
              "      <th>184</th>\n",
              "      <td>0.327386</td>\n",
              "      <td>0.726127</td>\n",
              "      <td>0.286312</td>\n",
              "      <td>0.158448</td>\n",
              "      <td>-0.412068</td>\n",
              "      <td>0.016280</td>\n",
              "      <td>-0.440043</td>\n",
              "      <td>-0.420162</td>\n",
              "      <td>-0.308938</td>\n",
              "      <td>0.052790</td>\n",
              "      <td>-0.721019</td>\n",
              "      <td>-1.308602</td>\n",
              "      <td>-0.753466</td>\n",
              "      <td>-0.457791</td>\n",
              "      <td>-1.250377</td>\n",
              "      <td>-0.644302</td>\n",
              "      <td>-0.469295</td>\n",
              "      <td>-0.938730</td>\n",
              "      <td>-1.068191</td>\n",
              "      <td>-0.461430</td>\n",
              "      <td>0.317004</td>\n",
              "      <td>0.383135</td>\n",
              "      <td>0.194763</td>\n",
              "      <td>0.162637</td>\n",
              "      <td>-0.099446</td>\n",
              "      <td>0.481144</td>\n",
              "      <td>0.435670</td>\n",
              "      <td>0.121718</td>\n",
              "      <td>0.443667</td>\n",
              "      <td>0.763308</td>\n",
              "      <td>0</td>\n",
              "    </tr>\n",
              "  </tbody>\n",
              "</table>\n",
              "</div>"
            ],
            "text/plain": [
              "     mean radius  mean texture  ...  worst fractal dimension  label\n",
              "376    -1.010321      0.216499  ...                 1.997972      1\n",
              "528    -0.053194     -1.424083  ...                -0.632617      1\n",
              "254     1.511725      0.009390  ...                 0.307790      0\n",
              "275    -0.635423     -0.449042  ...                -1.308690      1\n",
              "184     0.327386      0.726127  ...                 0.763308      0\n",
              "\n",
              "[5 rows x 31 columns]"
            ]
          },
          "metadata": {},
          "execution_count": 184
        }
      ]
    },
    {
      "cell_type": "code",
      "metadata": {
        "colab": {
          "base_uri": "https://localhost:8080/",
          "height": 470
        },
        "id": "aENiCH6TXLbh",
        "outputId": "d8496893-ba8c-4854-b528-da1fe1a6b5d2"
      },
      "source": [
        "df"
      ],
      "execution_count": 185,
      "outputs": [
        {
          "output_type": "execute_result",
          "data": {
            "text/html": [
              "<div>\n",
              "<style scoped>\n",
              "    .dataframe tbody tr th:only-of-type {\n",
              "        vertical-align: middle;\n",
              "    }\n",
              "\n",
              "    .dataframe tbody tr th {\n",
              "        vertical-align: top;\n",
              "    }\n",
              "\n",
              "    .dataframe thead th {\n",
              "        text-align: right;\n",
              "    }\n",
              "</style>\n",
              "<table border=\"1\" class=\"dataframe\">\n",
              "  <thead>\n",
              "    <tr style=\"text-align: right;\">\n",
              "      <th></th>\n",
              "      <th>mean radius</th>\n",
              "      <th>mean texture</th>\n",
              "      <th>mean perimeter</th>\n",
              "      <th>mean area</th>\n",
              "      <th>mean smoothness</th>\n",
              "      <th>mean compactness</th>\n",
              "      <th>mean concavity</th>\n",
              "      <th>mean concave points</th>\n",
              "      <th>mean symmetry</th>\n",
              "      <th>mean fractal dimension</th>\n",
              "      <th>radius error</th>\n",
              "      <th>texture error</th>\n",
              "      <th>perimeter error</th>\n",
              "      <th>area error</th>\n",
              "      <th>smoothness error</th>\n",
              "      <th>compactness error</th>\n",
              "      <th>concavity error</th>\n",
              "      <th>concave points error</th>\n",
              "      <th>symmetry error</th>\n",
              "      <th>fractal dimension error</th>\n",
              "      <th>worst radius</th>\n",
              "      <th>worst texture</th>\n",
              "      <th>worst perimeter</th>\n",
              "      <th>worst area</th>\n",
              "      <th>worst smoothness</th>\n",
              "      <th>worst compactness</th>\n",
              "      <th>worst concavity</th>\n",
              "      <th>worst concave points</th>\n",
              "      <th>worst symmetry</th>\n",
              "      <th>worst fractal dimension</th>\n",
              "      <th>label</th>\n",
              "    </tr>\n",
              "  </thead>\n",
              "  <tbody>\n",
              "    <tr>\n",
              "      <th>376</th>\n",
              "      <td>-1.010321</td>\n",
              "      <td>0.216499</td>\n",
              "      <td>-0.898730</td>\n",
              "      <td>-0.900412</td>\n",
              "      <td>-0.400681</td>\n",
              "      <td>1.168530</td>\n",
              "      <td>1.747661</td>\n",
              "      <td>0.270601</td>\n",
              "      <td>1.374147</td>\n",
              "      <td>3.076540</td>\n",
              "      <td>-1.059924</td>\n",
              "      <td>0.025667</td>\n",
              "      <td>-0.249030</td>\n",
              "      <td>-0.728456</td>\n",
              "      <td>0.486027</td>\n",
              "      <td>2.847676</td>\n",
              "      <td>4.032102</td>\n",
              "      <td>2.821453</td>\n",
              "      <td>-0.529391</td>\n",
              "      <td>3.179239</td>\n",
              "      <td>-1.122220</td>\n",
              "      <td>-0.465281</td>\n",
              "      <td>-0.915951</td>\n",
              "      <td>-0.929379</td>\n",
              "      <td>-0.792053</td>\n",
              "      <td>0.684709</td>\n",
              "      <td>1.587076</td>\n",
              "      <td>0.485634</td>\n",
              "      <td>-0.491410</td>\n",
              "      <td>1.997972</td>\n",
              "      <td>1</td>\n",
              "    </tr>\n",
              "    <tr>\n",
              "      <th>528</th>\n",
              "      <td>-0.053194</td>\n",
              "      <td>-1.424083</td>\n",
              "      <td>-0.068336</td>\n",
              "      <td>-0.172606</td>\n",
              "      <td>2.023925</td>\n",
              "      <td>-0.128699</td>\n",
              "      <td>0.153179</td>\n",
              "      <td>0.444452</td>\n",
              "      <td>0.600147</td>\n",
              "      <td>0.251255</td>\n",
              "      <td>0.508639</td>\n",
              "      <td>2.573006</td>\n",
              "      <td>0.606383</td>\n",
              "      <td>0.096872</td>\n",
              "      <td>0.999714</td>\n",
              "      <td>0.390772</td>\n",
              "      <td>0.521768</td>\n",
              "      <td>2.714394</td>\n",
              "      <td>-0.410734</td>\n",
              "      <td>0.655546</td>\n",
              "      <td>-0.341518</td>\n",
              "      <td>-1.676839</td>\n",
              "      <td>-0.379508</td>\n",
              "      <td>-0.399544</td>\n",
              "      <td>0.308228</td>\n",
              "      <td>-0.749786</td>\n",
              "      <td>-0.557897</td>\n",
              "      <td>-0.199563</td>\n",
              "      <td>-1.198380</td>\n",
              "      <td>-0.632617</td>\n",
              "      <td>1</td>\n",
              "    </tr>\n",
              "    <tr>\n",
              "      <th>254</th>\n",
              "      <td>1.511725</td>\n",
              "      <td>0.009390</td>\n",
              "      <td>1.422337</td>\n",
              "      <td>1.462184</td>\n",
              "      <td>0.508101</td>\n",
              "      <td>0.274020</td>\n",
              "      <td>0.616458</td>\n",
              "      <td>0.954141</td>\n",
              "      <td>-0.130042</td>\n",
              "      <td>-0.897005</td>\n",
              "      <td>0.688377</td>\n",
              "      <td>-1.057134</td>\n",
              "      <td>0.460844</td>\n",
              "      <td>0.674637</td>\n",
              "      <td>-0.797359</td>\n",
              "      <td>-0.417950</td>\n",
              "      <td>-0.146014</td>\n",
              "      <td>0.141749</td>\n",
              "      <td>-0.834509</td>\n",
              "      <td>-0.470887</td>\n",
              "      <td>1.952956</td>\n",
              "      <td>-0.180304</td>\n",
              "      <td>1.663205</td>\n",
              "      <td>1.918616</td>\n",
              "      <td>0.759738</td>\n",
              "      <td>0.393357</td>\n",
              "      <td>0.765260</td>\n",
              "      <td>1.298734</td>\n",
              "      <td>0.773694</td>\n",
              "      <td>0.307790</td>\n",
              "      <td>0</td>\n",
              "    </tr>\n",
              "    <tr>\n",
              "      <th>275</th>\n",
              "      <td>-0.635423</td>\n",
              "      <td>-0.449042</td>\n",
              "      <td>-0.649530</td>\n",
              "      <td>-0.623681</td>\n",
              "      <td>1.860245</td>\n",
              "      <td>-0.611014</td>\n",
              "      <td>-0.370489</td>\n",
              "      <td>0.647967</td>\n",
              "      <td>0.742534</td>\n",
              "      <td>-0.573791</td>\n",
              "      <td>0.851874</td>\n",
              "      <td>1.952500</td>\n",
              "      <td>0.571731</td>\n",
              "      <td>0.187079</td>\n",
              "      <td>2.379770</td>\n",
              "      <td>-0.591766</td>\n",
              "      <td>-0.637401</td>\n",
              "      <td>1.184757</td>\n",
              "      <td>0.755252</td>\n",
              "      <td>-0.299917</td>\n",
              "      <td>-0.801242</td>\n",
              "      <td>-1.088973</td>\n",
              "      <td>-0.828082</td>\n",
              "      <td>-0.717550</td>\n",
              "      <td>0.154802</td>\n",
              "      <td>-1.085159</td>\n",
              "      <td>-0.962664</td>\n",
              "      <td>-0.382891</td>\n",
              "      <td>-1.101313</td>\n",
              "      <td>-1.308690</td>\n",
              "      <td>1</td>\n",
              "    </tr>\n",
              "    <tr>\n",
              "      <th>184</th>\n",
              "      <td>0.327386</td>\n",
              "      <td>0.726127</td>\n",
              "      <td>0.286312</td>\n",
              "      <td>0.158448</td>\n",
              "      <td>-0.412068</td>\n",
              "      <td>0.016280</td>\n",
              "      <td>-0.440043</td>\n",
              "      <td>-0.420162</td>\n",
              "      <td>-0.308938</td>\n",
              "      <td>0.052790</td>\n",
              "      <td>-0.721019</td>\n",
              "      <td>-1.308602</td>\n",
              "      <td>-0.753466</td>\n",
              "      <td>-0.457791</td>\n",
              "      <td>-1.250377</td>\n",
              "      <td>-0.644302</td>\n",
              "      <td>-0.469295</td>\n",
              "      <td>-0.938730</td>\n",
              "      <td>-1.068191</td>\n",
              "      <td>-0.461430</td>\n",
              "      <td>0.317004</td>\n",
              "      <td>0.383135</td>\n",
              "      <td>0.194763</td>\n",
              "      <td>0.162637</td>\n",
              "      <td>-0.099446</td>\n",
              "      <td>0.481144</td>\n",
              "      <td>0.435670</td>\n",
              "      <td>0.121718</td>\n",
              "      <td>0.443667</td>\n",
              "      <td>0.763308</td>\n",
              "      <td>0</td>\n",
              "    </tr>\n",
              "    <tr>\n",
              "      <th>...</th>\n",
              "      <td>...</td>\n",
              "      <td>...</td>\n",
              "      <td>...</td>\n",
              "      <td>...</td>\n",
              "      <td>...</td>\n",
              "      <td>...</td>\n",
              "      <td>...</td>\n",
              "      <td>...</td>\n",
              "      <td>...</td>\n",
              "      <td>...</td>\n",
              "      <td>...</td>\n",
              "      <td>...</td>\n",
              "      <td>...</td>\n",
              "      <td>...</td>\n",
              "      <td>...</td>\n",
              "      <td>...</td>\n",
              "      <td>...</td>\n",
              "      <td>...</td>\n",
              "      <td>...</td>\n",
              "      <td>...</td>\n",
              "      <td>...</td>\n",
              "      <td>...</td>\n",
              "      <td>...</td>\n",
              "      <td>...</td>\n",
              "      <td>...</td>\n",
              "      <td>...</td>\n",
              "      <td>...</td>\n",
              "      <td>...</td>\n",
              "      <td>...</td>\n",
              "      <td>...</td>\n",
              "      <td>...</td>\n",
              "    </tr>\n",
              "    <tr>\n",
              "      <th>357</th>\n",
              "      <td>-0.073075</td>\n",
              "      <td>-0.716655</td>\n",
              "      <td>-0.142066</td>\n",
              "      <td>-0.174028</td>\n",
              "      <td>-0.635527</td>\n",
              "      <td>-0.936601</td>\n",
              "      <td>-0.926297</td>\n",
              "      <td>-0.723241</td>\n",
              "      <td>-1.415174</td>\n",
              "      <td>-0.562450</td>\n",
              "      <td>-0.544529</td>\n",
              "      <td>0.265160</td>\n",
              "      <td>-0.558919</td>\n",
              "      <td>-0.431169</td>\n",
              "      <td>-0.467679</td>\n",
              "      <td>-0.980254</td>\n",
              "      <td>-0.883294</td>\n",
              "      <td>-0.933377</td>\n",
              "      <td>-0.617779</td>\n",
              "      <td>-0.646017</td>\n",
              "      <td>-0.240048</td>\n",
              "      <td>-0.015832</td>\n",
              "      <td>-0.313383</td>\n",
              "      <td>-0.327294</td>\n",
              "      <td>-0.748217</td>\n",
              "      <td>-0.976252</td>\n",
              "      <td>-1.052282</td>\n",
              "      <td>-0.899073</td>\n",
              "      <td>-0.871589</td>\n",
              "      <td>-0.710199</td>\n",
              "      <td>1</td>\n",
              "    </tr>\n",
              "    <tr>\n",
              "      <th>333</th>\n",
              "      <td>-0.817192</td>\n",
              "      <td>-1.049425</td>\n",
              "      <td>-0.848066</td>\n",
              "      <td>-0.753372</td>\n",
              "      <td>-0.946520</td>\n",
              "      <td>-1.132559</td>\n",
              "      <td>-1.102648</td>\n",
              "      <td>-1.185959</td>\n",
              "      <td>-0.140994</td>\n",
              "      <td>-0.281764</td>\n",
              "      <td>-0.688536</td>\n",
              "      <td>-0.400523</td>\n",
              "      <td>-0.661885</td>\n",
              "      <td>-0.555919</td>\n",
              "      <td>-0.474679</td>\n",
              "      <td>-1.025804</td>\n",
              "      <td>-1.025216</td>\n",
              "      <td>-1.436389</td>\n",
              "      <td>-0.428896</td>\n",
              "      <td>-0.667577</td>\n",
              "      <td>-0.726692</td>\n",
              "      <td>-0.589042</td>\n",
              "      <td>-0.750044</td>\n",
              "      <td>-0.681865</td>\n",
              "      <td>-0.691230</td>\n",
              "      <td>-0.994446</td>\n",
              "      <td>-1.279358</td>\n",
              "      <td>-1.491235</td>\n",
              "      <td>-0.138734</td>\n",
              "      <td>-0.541181</td>\n",
              "      <td>1</td>\n",
              "    </tr>\n",
              "    <tr>\n",
              "      <th>563</th>\n",
              "      <td>1.929226</td>\n",
              "      <td>1.349781</td>\n",
              "      <td>2.101976</td>\n",
              "      <td>1.968434</td>\n",
              "      <td>0.963560</td>\n",
              "      <td>2.260135</td>\n",
              "      <td>2.870075</td>\n",
              "      <td>2.540213</td>\n",
              "      <td>1.231760</td>\n",
              "      <td>0.849484</td>\n",
              "      <td>2.010431</td>\n",
              "      <td>-0.346274</td>\n",
              "      <td>2.916691</td>\n",
              "      <td>1.726318</td>\n",
              "      <td>-0.214002</td>\n",
              "      <td>0.984878</td>\n",
              "      <td>1.543668</td>\n",
              "      <td>2.342934</td>\n",
              "      <td>0.003354</td>\n",
              "      <td>0.914648</td>\n",
              "      <td>1.660970</td>\n",
              "      <td>0.607860</td>\n",
              "      <td>2.139779</td>\n",
              "      <td>1.649655</td>\n",
              "      <td>0.365215</td>\n",
              "      <td>1.045400</td>\n",
              "      <td>1.860055</td>\n",
              "      <td>2.125538</td>\n",
              "      <td>0.045693</td>\n",
              "      <td>0.819278</td>\n",
              "      <td>0</td>\n",
              "    </tr>\n",
              "    <tr>\n",
              "      <th>459</th>\n",
              "      <td>-1.241793</td>\n",
              "      <td>2.073499</td>\n",
              "      <td>-1.247611</td>\n",
              "      <td>-1.035222</td>\n",
              "      <td>-1.175673</td>\n",
              "      <td>-1.100721</td>\n",
              "      <td>-0.921401</td>\n",
              "      <td>-0.992788</td>\n",
              "      <td>-0.695938</td>\n",
              "      <td>-0.464635</td>\n",
              "      <td>-0.819551</td>\n",
              "      <td>0.853008</td>\n",
              "      <td>-0.803464</td>\n",
              "      <td>-0.639305</td>\n",
              "      <td>-0.150999</td>\n",
              "      <td>-0.714164</td>\n",
              "      <td>-0.576724</td>\n",
              "      <td>-0.923320</td>\n",
              "      <td>-0.581455</td>\n",
              "      <td>-0.577553</td>\n",
              "      <td>-1.159494</td>\n",
              "      <td>1.830816</td>\n",
              "      <td>-1.168535</td>\n",
              "      <td>-0.932895</td>\n",
              "      <td>-0.936711</td>\n",
              "      <td>-0.912002</td>\n",
              "      <td>-0.960889</td>\n",
              "      <td>-1.004137</td>\n",
              "      <td>-0.937918</td>\n",
              "      <td>-0.655891</td>\n",
              "      <td>1</td>\n",
              "    </tr>\n",
              "    <tr>\n",
              "      <th>205</th>\n",
              "      <td>0.281943</td>\n",
              "      <td>-0.607283</td>\n",
              "      <td>0.280545</td>\n",
              "      <td>0.175512</td>\n",
              "      <td>-0.540877</td>\n",
              "      <td>-0.160348</td>\n",
              "      <td>-0.166973</td>\n",
              "      <td>-0.209683</td>\n",
              "      <td>-0.794513</td>\n",
              "      <td>-0.416437</td>\n",
              "      <td>-0.483894</td>\n",
              "      <td>-1.550817</td>\n",
              "      <td>-0.441597</td>\n",
              "      <td>-0.305759</td>\n",
              "      <td>-0.523014</td>\n",
              "      <td>-0.351441</td>\n",
              "      <td>-0.381429</td>\n",
              "      <td>-0.573596</td>\n",
              "      <td>-0.643205</td>\n",
              "      <td>-0.345685</td>\n",
              "      <td>0.310792</td>\n",
              "      <td>-0.885418</td>\n",
              "      <td>0.310928</td>\n",
              "      <td>0.191466</td>\n",
              "      <td>0.733436</td>\n",
              "      <td>0.501500</td>\n",
              "      <td>0.290305</td>\n",
              "      <td>0.161307</td>\n",
              "      <td>0.831934</td>\n",
              "      <td>0.745575</td>\n",
              "      <td>0</td>\n",
              "    </tr>\n",
              "  </tbody>\n",
              "</table>\n",
              "<p>569 rows × 31 columns</p>\n",
              "</div>"
            ],
            "text/plain": [
              "     mean radius  mean texture  ...  worst fractal dimension  label\n",
              "376    -1.010321      0.216499  ...                 1.997972      1\n",
              "528    -0.053194     -1.424083  ...                -0.632617      1\n",
              "254     1.511725      0.009390  ...                 0.307790      0\n",
              "275    -0.635423     -0.449042  ...                -1.308690      1\n",
              "184     0.327386      0.726127  ...                 0.763308      0\n",
              "..           ...           ...  ...                      ...    ...\n",
              "357    -0.073075     -0.716655  ...                -0.710199      1\n",
              "333    -0.817192     -1.049425  ...                -0.541181      1\n",
              "563     1.929226      1.349781  ...                 0.819278      0\n",
              "459    -1.241793      2.073499  ...                -0.655891      1\n",
              "205     0.281943     -0.607283  ...                 0.745575      0\n",
              "\n",
              "[569 rows x 31 columns]"
            ]
          },
          "metadata": {},
          "execution_count": 185
        }
      ]
    },
    {
      "cell_type": "code",
      "metadata": {
        "id": "WSHoleyOXosr"
      },
      "source": [
        "#500 Training\n",
        "X_train = feature[:500]\n",
        "y_train = label[:500]\n",
        "\n",
        "#35 Validation\n",
        "X_val = feature[500:535]\n",
        "y_val = label[500:535]\n",
        "\n",
        "#34 Testing\n",
        "X_test = feature[535:]\n",
        "y_test = label[535:]"
      ],
      "execution_count": 186,
      "outputs": []
    },
    {
      "cell_type": "code",
      "metadata": {
        "id": "GvK6kV7cXrYP"
      },
      "source": [
        "model = Sequential()\n",
        "\n",
        "model.add(Dense(32, activation = 'relu', input_dim = 30))\n",
        "model.add(Dense(64, activation = 'relu'))\n",
        "model.add(Dense(128, activation = 'relu'))\n",
        "model.add(Dense(64, activation = 'relu'))\n",
        "model.add(Dense(32, activation = 'relu'))\n",
        "model.add(Dense(1, activation = 'sigmoid'))\n",
        "\n",
        "model.compile( loss = 'binary_crossentropy' , optimizer = 'adam' , metrics = ['accuracy'])"
      ],
      "execution_count": 187,
      "outputs": []
    },
    {
      "cell_type": "code",
      "metadata": {
        "colab": {
          "base_uri": "https://localhost:8080/"
        },
        "id": "CLrQABpIY0FX",
        "outputId": "5d47f157-19dd-4efa-ea5e-f4c21f37e51a"
      },
      "source": [
        "model.fit( X_train , y_train, epochs = 10, batch_size = 5, validation_data = (X_val, y_val))"
      ],
      "execution_count": 188,
      "outputs": [
        {
          "output_type": "stream",
          "name": "stdout",
          "text": [
            "Epoch 1/10\n",
            "100/100 [==============================] - 1s 4ms/step - loss: 0.1895 - accuracy: 0.9420 - val_loss: 0.3570 - val_accuracy: 0.9429\n",
            "Epoch 2/10\n",
            "100/100 [==============================] - 0s 2ms/step - loss: 0.0876 - accuracy: 0.9720 - val_loss: 0.3055 - val_accuracy: 0.9429\n",
            "Epoch 3/10\n",
            "100/100 [==============================] - 0s 2ms/step - loss: 0.0563 - accuracy: 0.9740 - val_loss: 0.3382 - val_accuracy: 0.9429\n",
            "Epoch 4/10\n",
            "100/100 [==============================] - 0s 2ms/step - loss: 0.0345 - accuracy: 0.9840 - val_loss: 0.3904 - val_accuracy: 0.9714\n",
            "Epoch 5/10\n",
            "100/100 [==============================] - 0s 2ms/step - loss: 0.0312 - accuracy: 0.9880 - val_loss: 0.3896 - val_accuracy: 0.9714\n",
            "Epoch 6/10\n",
            "100/100 [==============================] - 0s 2ms/step - loss: 0.0185 - accuracy: 0.9960 - val_loss: 0.4436 - val_accuracy: 0.9429\n",
            "Epoch 7/10\n",
            "100/100 [==============================] - 0s 2ms/step - loss: 0.0081 - accuracy: 0.9980 - val_loss: 0.4768 - val_accuracy: 0.9429\n",
            "Epoch 8/10\n",
            "100/100 [==============================] - 0s 2ms/step - loss: 0.0088 - accuracy: 1.0000 - val_loss: 0.4751 - val_accuracy: 0.9714\n",
            "Epoch 9/10\n",
            "100/100 [==============================] - 0s 2ms/step - loss: 0.0202 - accuracy: 0.9960 - val_loss: 0.3823 - val_accuracy: 0.9714\n",
            "Epoch 10/10\n",
            "100/100 [==============================] - 0s 2ms/step - loss: 0.0045 - accuracy: 1.0000 - val_loss: 0.4354 - val_accuracy: 0.9714\n"
          ]
        },
        {
          "output_type": "execute_result",
          "data": {
            "text/plain": [
              "<keras.callbacks.History at 0x7f0ec88cafd0>"
            ]
          },
          "metadata": {},
          "execution_count": 188
        }
      ]
    },
    {
      "cell_type": "code",
      "metadata": {
        "colab": {
          "base_uri": "https://localhost:8080/"
        },
        "id": "t3Je7_6Tf5Kh",
        "outputId": "879cb4ad-3c23-493f-cc9d-2c9c927e6205"
      },
      "source": [
        "\n",
        "model.evaluate(X_test , y_test)"
      ],
      "execution_count": 189,
      "outputs": [
        {
          "output_type": "stream",
          "name": "stdout",
          "text": [
            "2/2 [==============================] - 0s 8ms/step - loss: 0.4318 - accuracy: 0.9412\n"
          ]
        },
        {
          "output_type": "execute_result",
          "data": {
            "text/plain": [
              "[0.4317864775657654, 0.9411764740943909]"
            ]
          },
          "metadata": {},
          "execution_count": 189
        }
      ]
    },
    {
      "cell_type": "code",
      "metadata": {
        "colab": {
          "base_uri": "https://localhost:8080/"
        },
        "id": "ZmAcnkp5gm27",
        "outputId": "c7eec749-8754-4a8a-8c59-aa9577918300"
      },
      "source": [
        "model.evaluate(X_val , y_val)"
      ],
      "execution_count": 190,
      "outputs": [
        {
          "output_type": "stream",
          "name": "stdout",
          "text": [
            "2/2 [==============================] - 0s 7ms/step - loss: 0.4354 - accuracy: 0.9714\n"
          ]
        },
        {
          "output_type": "execute_result",
          "data": {
            "text/plain": [
              "[0.43537378311157227, 0.9714285731315613]"
            ]
          },
          "metadata": {},
          "execution_count": 190
        }
      ]
    },
    {
      "cell_type": "code",
      "metadata": {
        "colab": {
          "base_uri": "https://localhost:8080/"
        },
        "id": "8PWy_t7Xgroq",
        "outputId": "1f81e3d0-81dc-4c96-8761-e49db4ad0a83"
      },
      "source": [
        "\n",
        "for i in range(30):\n",
        "  sample = X_test[i]\n",
        "  sample = np.reshape(sample, (1,30))\n",
        "\n",
        "  if (model.predict(sample)[0][0] > 0.5):\n",
        "    print(\"-Benign\")\n",
        "  else:\n",
        "    print(\"-Malignant\")\n",
        "\n",
        "  if (y_test[i] == 1):\n",
        "    print(\"*Banign\")\n",
        "  else:\n",
        "    print(\"*Melignant\")\n",
        "  print(\"-----------\")"
      ],
      "execution_count": 191,
      "outputs": [
        {
          "output_type": "stream",
          "name": "stdout",
          "text": [
            "-Benign\n",
            "*Melignant\n",
            "-----------\n",
            "-Benign\n",
            "*Banign\n",
            "-----------\n",
            "-Benign\n",
            "*Banign\n",
            "-----------\n",
            "-Benign\n",
            "*Banign\n",
            "-----------\n",
            "-Malignant\n",
            "*Melignant\n",
            "-----------\n",
            "-Benign\n",
            "*Banign\n",
            "-----------\n",
            "-Benign\n",
            "*Banign\n",
            "-----------\n",
            "-Benign\n",
            "*Banign\n",
            "-----------\n",
            "-Malignant\n",
            "*Melignant\n",
            "-----------\n",
            "-Malignant\n",
            "*Melignant\n",
            "-----------\n",
            "-Malignant\n",
            "*Melignant\n",
            "-----------\n",
            "-Benign\n",
            "*Banign\n",
            "-----------\n",
            "-Malignant\n",
            "*Melignant\n",
            "-----------\n",
            "-Benign\n",
            "*Banign\n",
            "-----------\n",
            "-Benign\n",
            "*Banign\n",
            "-----------\n",
            "-Benign\n",
            "*Banign\n",
            "-----------\n",
            "-Benign\n",
            "*Banign\n",
            "-----------\n",
            "-Benign\n",
            "*Banign\n",
            "-----------\n",
            "-Benign\n",
            "*Banign\n",
            "-----------\n",
            "-Malignant\n",
            "*Melignant\n",
            "-----------\n",
            "-Malignant\n",
            "*Melignant\n",
            "-----------\n",
            "-Malignant\n",
            "*Melignant\n",
            "-----------\n",
            "-Malignant\n",
            "*Melignant\n",
            "-----------\n",
            "-Benign\n",
            "*Banign\n",
            "-----------\n",
            "-Benign\n",
            "*Banign\n",
            "-----------\n",
            "-Benign\n",
            "*Banign\n",
            "-----------\n",
            "-Benign\n",
            "*Banign\n",
            "-----------\n",
            "-Benign\n",
            "*Banign\n",
            "-----------\n",
            "-Malignant\n",
            "*Melignant\n",
            "-----------\n",
            "-Benign\n",
            "*Banign\n",
            "-----------\n"
          ]
        }
      ]
    },
    {
      "cell_type": "code",
      "metadata": {
        "colab": {
          "base_uri": "https://localhost:8080/"
        },
        "id": "57vY5agMgwqi",
        "outputId": "1afb9692-e412-4511-b616-6fc42109014b"
      },
      "source": [
        "\n",
        "t = 0\n",
        "for i in y_val:\n",
        "  if (i == 1):\n",
        "    t += 1\n",
        "\n",
        "print(t)"
      ],
      "execution_count": 192,
      "outputs": [
        {
          "output_type": "stream",
          "name": "stdout",
          "text": [
            "22\n"
          ]
        }
      ]
    },
    {
      "cell_type": "code",
      "metadata": {
        "colab": {
          "base_uri": "https://localhost:8080/"
        },
        "id": "yuLacTW9g1WG",
        "outputId": "cd16c5cc-32e8-430d-fd75-f5d46d8716c3"
      },
      "source": [
        "\n",
        "t = 0\n",
        "for i in y_test:\n",
        "  if (i == 1):\n",
        "    t += 1\n",
        "\n",
        "print(t)"
      ],
      "execution_count": 193,
      "outputs": [
        {
          "output_type": "stream",
          "name": "stdout",
          "text": [
            "21\n"
          ]
        }
      ]
    },
    {
      "cell_type": "code",
      "metadata": {
        "colab": {
          "base_uri": "https://localhost:8080/"
        },
        "id": "Sz8nx9bpg8DA",
        "outputId": "31fc0e6e-61ba-4788-ba0f-9713c5bb1063"
      },
      "source": [
        "X_test[0] * -.1"
      ],
      "execution_count": 194,
      "outputs": [
        {
          "output_type": "execute_result",
          "data": {
            "text/plain": [
              "array([ 0.00929555,  0.08143917,  0.00633931,  0.02013315, -0.0308838 ,\n",
              "       -0.04483734,  0.01369661, -0.00456774,  0.05462491, -0.04057736,\n",
              "        0.04564642,  0.10819902,  0.04500121,  0.03737448,  0.0774691 ,\n",
              "        0.02698425,  0.04742687,  0.04201453,  0.10100731,  0.02515008,\n",
              "       -0.00622925,  0.07844549, -0.00905128,  0.011986  , -0.0382749 ,\n",
              "       -0.06357259, -0.00274011, -0.03607756,  0.05043523, -0.10559031])"
            ]
          },
          "metadata": {},
          "execution_count": 194
        }
      ]
    },
    {
      "cell_type": "code",
      "metadata": {
        "id": "UQ_0KAzFhAKB"
      },
      "source": [
        ""
      ],
      "execution_count": null,
      "outputs": []
    }
  ]
}